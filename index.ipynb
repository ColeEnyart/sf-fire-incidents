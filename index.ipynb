{
 "cells": [
  {
   "cell_type": "code",
   "execution_count": 1,
   "metadata": {},
   "outputs": [
    {
     "data": {
      "text/plain": [
       "<Response [200]>"
      ]
     },
     "execution_count": 1,
     "metadata": {},
     "output_type": "execute_result"
    }
   ],
   "source": [
    "import requests\n",
    "\n",
    "response = requests.get(\"https://data.sfgov.org/resource/wr8u-xric.json\")\n",
    "response"
   ]
  },
  {
   "cell_type": "code",
   "execution_count": 12,
   "metadata": {},
   "outputs": [
    {
     "data": {
      "text/plain": [
       "{'incident_number': '3004094',\n",
       " 'exposure_number': '0',\n",
       " 'id': '030040940',\n",
       " 'address': '21st Av. / Judah St.',\n",
       " 'incident_date': '2003-01-14T00:00:00',\n",
       " 'call_number': '030140278',\n",
       " 'alarm_dttm': '2003-01-14T14:40:25',\n",
       " 'arrival_dttm': '2003-01-14T14:44:51',\n",
       " 'close_dttm': '2003-01-14T14:44:51',\n",
       " 'city': 'SF',\n",
       " 'zipcode': '94116',\n",
       " 'battalion': 'B08',\n",
       " 'station_area': '22',\n",
       " 'suppression_units': '2',\n",
       " 'suppression_personnel': '6',\n",
       " 'ems_units': '0',\n",
       " 'ems_personnel': '0',\n",
       " 'other_units': '0',\n",
       " 'other_personnel': '0',\n",
       " 'first_unit_on_scene': 'E22',\n",
       " 'estimated_property_loss': '0',\n",
       " 'estimated_contents_loss': '0',\n",
       " 'fire_fatalities': '0',\n",
       " 'fire_injuries': '0',\n",
       " 'civilian_fatalities': '0',\n",
       " 'civilian_injuries': '0',\n",
       " 'number_of_alarms': '1',\n",
       " 'primary_situation': '700 - False alarm or false call, other',\n",
       " 'mutual_aid': 'None',\n",
       " 'action_taken_primary': '86 - Investigate',\n",
       " 'action_taken_secondary': '-',\n",
       " 'action_taken_other': '-',\n",
       " 'detector_alerted_occupants': '-',\n",
       " 'property_use': '963 - Street or road in commercial area',\n",
       " 'neighborhood_district': 'Sunset/Parkside',\n",
       " 'point': {'type': 'Point', 'coordinates': [-122.479138, 37.761605]}}"
      ]
     },
     "execution_count": 12,
     "metadata": {},
     "output_type": "execute_result"
    }
   ],
   "source": [
    "response.json()[999]"
   ]
  },
  {
   "cell_type": "code",
   "execution_count": 7,
   "metadata": {},
   "outputs": [
    {
     "data": {
      "text/plain": [
       "1000"
      ]
     },
     "execution_count": 7,
     "metadata": {},
     "output_type": "execute_result"
    }
   ],
   "source": [
    "len(response.json())"
   ]
  },
  {
   "cell_type": "code",
   "execution_count": 25,
   "metadata": {},
   "outputs": [
    {
     "data": {
      "text/plain": [
       "['Server',\n",
       " 'Date',\n",
       " 'Content-Type',\n",
       " 'Transfer-Encoding',\n",
       " 'Connection',\n",
       " 'Access-Control-Allow-Origin',\n",
       " 'ETag',\n",
       " 'X-SODA2-Fields',\n",
       " 'X-SODA2-Types',\n",
       " 'X-SODA2-Data-Out-Of-Date',\n",
       " 'X-SODA2-Truth-Last-Modified',\n",
       " 'X-SODA2-Secondary-Last-Modified',\n",
       " 'Last-Modified',\n",
       " 'Vary',\n",
       " 'Content-Encoding',\n",
       " 'Age',\n",
       " 'X-Socrata-Region',\n",
       " 'Strict-Transport-Security',\n",
       " 'X-Socrata-RequestId']"
      ]
     },
     "execution_count": 25,
     "metadata": {},
     "output_type": "execute_result"
    }
   ],
   "source": [
    "ans = [x for x in response.headers]\n",
    "ans"
   ]
  },
  {
   "cell_type": "code",
   "execution_count": 27,
   "metadata": {},
   "outputs": [],
   "source": [
    "import pandas as pd\n",
    "results_df = pd.DataFrame.from_records(response.json())"
   ]
  },
  {
   "cell_type": "code",
   "execution_count": 30,
   "metadata": {},
   "outputs": [
    {
     "data": {
      "text/plain": [
       "Index(['incident_number', 'exposure_number', 'id', 'address', 'incident_date',\n",
       "       'call_number', 'alarm_dttm', 'arrival_dttm', 'close_dttm', 'city',\n",
       "       'zipcode', 'battalion', 'station_area', 'suppression_units',\n",
       "       'suppression_personnel', 'ems_units', 'ems_personnel', 'other_units',\n",
       "       'other_personnel', 'first_unit_on_scene', 'fire_fatalities',\n",
       "       'fire_injuries', 'civilian_fatalities', 'civilian_injuries',\n",
       "       'number_of_alarms', 'primary_situation', 'mutual_aid',\n",
       "       'action_taken_primary', 'action_taken_secondary', 'action_taken_other',\n",
       "       'detector_alerted_occupants', 'property_use', 'supervisor_district',\n",
       "       'neighborhood_district', 'point', 'estimated_contents_loss',\n",
       "       'area_of_fire_origin', 'ignition_cause', 'ignition_factor_primary',\n",
       "       'ignition_factor_secondary', 'heat_source', 'item_first_ignited',\n",
       "       'human_factors_associated_with_ignition', 'estimated_property_loss',\n",
       "       'structure_type', 'structure_status', 'floor_of_fire_origin',\n",
       "       'fire_spread', 'no_flame_spead', 'number_of_floors_with_minimum_damage',\n",
       "       'number_of_floors_with_significant_damage',\n",
       "       'number_of_floors_with_heavy_damage',\n",
       "       'number_of_floors_with_extreme_damage', 'detectors_present',\n",
       "       'detector_type', 'detector_operation', 'detector_effectiveness',\n",
       "       'detector_failure_reason', 'automatic_extinguishing_system_present',\n",
       "       'automatic_extinguishing_sytem_type',\n",
       "       'automatic_extinguishing_sytem_perfomance',\n",
       "       'automatic_extinguishing_sytem_failure_reason',\n",
       "       'number_of_sprinkler_heads_operating', 'box'],\n",
       "      dtype='object')"
      ]
     },
     "execution_count": 30,
     "metadata": {},
     "output_type": "execute_result"
    }
   ],
   "source": [
    "results_df.keys()"
   ]
  },
  {
   "cell_type": "code",
   "execution_count": 32,
   "metadata": {},
   "outputs": [
    {
     "data": {
      "text/plain": [
       "array(['94110', '94107', '94105', '94102', '94121', '94117', '94109',\n",
       "       '94122', '94124', '94128', '94103', '94130', '94115', '94112',\n",
       "       '94114', '94104', '94116', '94133', '94132', '94118', '94111',\n",
       "       '94131', '94123', '94108', '94134', '94127', '94129'], dtype=object)"
      ]
     },
     "execution_count": 32,
     "metadata": {},
     "output_type": "execute_result"
    }
   ],
   "source": [
    "results_df['zipcode'].unique()"
   ]
  },
  {
   "cell_type": "code",
   "execution_count": 33,
   "metadata": {},
   "outputs": [
    {
     "data": {
      "text/plain": [
       "27"
      ]
     },
     "execution_count": 33,
     "metadata": {},
     "output_type": "execute_result"
    }
   ],
   "source": [
    "len(results_df['zipcode'].unique())"
   ]
  },
  {
   "cell_type": "code",
   "execution_count": 37,
   "metadata": {},
   "outputs": [
    {
     "data": {
      "text/plain": [
       "29"
      ]
     },
     "execution_count": 37,
     "metadata": {},
     "output_type": "execute_result"
    }
   ],
   "source": [
    "zipcodes = ['94102', '94103', '94104', '94105', '94107', '94108', '94109', '94110', '94111', '94112', '94114', '94115', '94116', '94117', '94118', '94121', '94122', '94123', '94124', '94127', '94128', '94129', '94130', '94131', '94132', '94133', '94134', '94143', '94158']\n",
    "len(zipcodes)"
   ]
  },
  {
   "cell_type": "code",
   "execution_count": 38,
   "metadata": {},
   "outputs": [],
   "source": [
    "uniq_zc = results_df['zipcode'].unique()\n",
    "for zipcode in uniq_zc:\n",
    "    if zipcode not in zipcodes:\n",
    "        print(zipcode)"
   ]
  },
  {
   "cell_type": "code",
   "execution_count": 39,
   "metadata": {},
   "outputs": [
    {
     "name": "stdout",
     "output_type": "stream",
     "text": [
      "94143\n",
      "94158\n"
     ]
    }
   ],
   "source": [
    "for zipcode in zipcodes:\n",
    "    if zipcode not in uniq_zc:\n",
    "        print(zipcode)"
   ]
  }
 ],
 "metadata": {
  "kernelspec": {
   "display_name": "jigsaw",
   "language": "python",
   "name": "python3"
  },
  "language_info": {
   "codemirror_mode": {
    "name": "ipython",
    "version": 3
   },
   "file_extension": ".py",
   "mimetype": "text/x-python",
   "name": "python",
   "nbconvert_exporter": "python",
   "pygments_lexer": "ipython3",
   "version": "3.12.0"
  }
 },
 "nbformat": 4,
 "nbformat_minor": 2
}
